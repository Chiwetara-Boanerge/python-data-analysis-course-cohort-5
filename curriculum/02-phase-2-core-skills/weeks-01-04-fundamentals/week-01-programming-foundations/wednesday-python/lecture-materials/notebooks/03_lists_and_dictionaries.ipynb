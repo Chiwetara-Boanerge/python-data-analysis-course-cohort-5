{
  "cells": [
    {
      "cell_type": "markdown",
      "metadata": {
        "id": "butnEuXGKFF-"
      },
      "source": [
        "# Lists and Dictionaries: Organizing Your Business Data\n",
        "\n",
        "**Week 01 - Wednesday | Python Fundamentals**  \n",
        "*From Excel Ranges and Lookup Tables to Python Collections*\n",
        "\n",
        "---\n",
        "\n",
        "## Excel Connection: Ranges and Lookup Tables\n",
        "\n",
        "### You Already Work with Collections!\n",
        "\n",
        "**In Excel, you use:**\n",
        "- **Column ranges** like A1:A10 (customer names)\n",
        "- **Lookup tables** with VLOOKUP (product prices)\n",
        "- **Multiple related columns** (customer data across columns)\n",
        "\n",
        "**In Python:**\n",
        "- **Lists** = Column ranges\n",
        "- **Dictionaries** = Lookup tables\n",
        "- **List of dictionaries** = Complete data tables\n",
        "\n",
        "Same organizing concept, different syntax!"
      ]
    },
    {
      "cell_type": "markdown",
      "metadata": {
        "id": "vDgi07ajKFGD"
      },
      "source": [
        "## Part 1: Lists (Excel Column Ranges)\n",
        "\n",
        "### Business Scenario: Managing Product Categories\n",
        "\n",
        "Imagine you have this Excel column:\n",
        "```\n",
        "A1: Electronics\n",
        "A2: Clothing  \n",
        "A3: Books\n",
        "A4: Home & Garden\n",
        "A5: Sports\n",
        "```\n",
        "\n",
        "In Python, this becomes a list:"
      ]
    },
    {
      "cell_type": "code",
      "execution_count": null,
      "metadata": {
        "id": "HjqKZrdUKFGE"
      },
      "outputs": [],
      "source": [
        "# Product categories (like Excel column A1:A5)\n",
        "product_categories = [\"Electronics\", \"Clothing\", \"Books\", \"Home & Garden\", \"Sports\"]\n",
        "\n",
        "print(\"=== Product Categories ===\")\n",
        "print(f\"All categories: {product_categories}\")\n",
        "print(f\"Number of categories: {len(product_categories)}\")\n",
        "print(f\"First category: {product_categories[0]}\")\n",
        "print(f\"Last category: {product_categories[-1]}\")"
      ]
    },
    {
      "cell_type": "markdown",
      "metadata": {
        "id": "toS3V532KFGG"
      },
      "source": [
        "### Understanding List Indexing (Different from Excel!)\n",
        "\n",
        "**Excel rows start at 1, Python lists start at 0:**\n",
        "\n",
        "| Excel Position | Python Index | Value |\n",
        "|----------------|--------------|-------|\n",
        "| A1 (Row 1) | [0] | \"Electronics\" |\n",
        "| A2 (Row 2) | [1] | \"Clothing\" |\n",
        "| A3 (Row 3) | [2] | \"Books\" |\n",
        "| A4 (Row 4) | [3] | \"Home & Garden\" |\n",
        "| A5 (Row 5) | [4] | \"Sports\" |"
      ]
    },
    {
      "cell_type": "code",
      "execution_count": null,
      "metadata": {
        "id": "c04ZdKgqKFGH"
      },
      "outputs": [],
      "source": [
        "# Accessing specific items (like Excel cell references)\n",
        "categories = [\"Electronics\", \"Clothing\", \"Books\", \"Home & Garden\", \"Sports\"]\n",
        "\n",
        "print(\"=== Accessing List Items ===\")\n",
        "print(f\"First item (index 0): {categories[0]}\")\n",
        "print(f\"Second item (index 1): {categories[1]}\")\n",
        "print(f\"Third item (index 2): {categories[2]}\")\n",
        "\n",
        "# Python bonus: negative indexing (from the end)\n",
        "print(f\"\\n=== From the End ===\")\n",
        "print(f\"Last item: {categories[-1]}\")\n",
        "print(f\"Second to last: {categories[-2]}\")\n",
        "\n",
        "# Get multiple items (like Excel range)\n",
        "print(f\"\\n=== Ranges (Slicing) ===\")\n",
        "print(f\"First three: {categories[0:3]}\")\n",
        "print(f\"Last two: {categories[-2:]}\")"
      ]
    },
    {
      "cell_type": "markdown",
      "metadata": {
        "id": "FHbjjiDUKFGI"
      },
      "source": [
        "### Working with Business Lists"
      ]
    },
    {
      "cell_type": "code",
      "execution_count": null,
      "metadata": {
        "id": "_dQo3mSfKFGI"
      },
      "outputs": [],
      "source": [
        "# Nigerian cities where we deliver\n",
        "delivery_cities = [\"Lagos\", \"Abuja\", \"Port Harcourt\", \"Ibadan\", \"Kano\"]\n",
        "\n",
        "# Monthly sales figures (like Excel B1:B6)\n",
        "monthly_sales = [2500000, 2750000, 2200000, 3100000, 2900000, 3200000]\n",
        "\n",
        "# Top selling products\n",
        "bestsellers = [\"iPhone 15\", \"Samsung Galaxy\", \"Nike Air Force\", \"Adidas Sneakers\", \"MacBook Pro\"]\n",
        "\n",
        "print(\"=== Business Lists ===\")\n",
        "print(f\"We deliver to: {len(delivery_cities)} cities\")\n",
        "print(f\"Cities: {', '.join(delivery_cities)}\")\n",
        "\n",
        "print(f\"\\nMonthly sales data ({len(monthly_sales)} months):\")\n",
        "for i, sales in enumerate(monthly_sales):\n",
        "    month_name = [\"Jan\", \"Feb\", \"Mar\", \"Apr\", \"May\", \"Jun\"][i]\n",
        "    print(f\"  {month_name}: ₦{sales:,}\")\n",
        "\n",
        "print(f\"\\nTop 3 bestsellers:\")\n",
        "for i in range(3):\n",
        "    print(f\"  {i+1}. {bestsellers[i]}\")"
      ]
    },
    {
      "cell_type": "markdown",
      "metadata": {
        "id": "5Hu7UDQZKFGb"
      },
      "source": [
        "### List Operations (Like Excel Functions)"
      ]
    },
    {
      "cell_type": "code",
      "execution_count": null,
      "metadata": {
        "id": "fjIe9cjoKFGb"
      },
      "outputs": [],
      "source": [
        "# Sales data for analysis\n",
        "quarterly_sales = [2500000, 2750000, 2200000, 3100000]\n",
        "\n",
        "# Excel-like functions\n",
        "total_sales = sum(quarterly_sales)           # Like =SUM(A1:A4)\n",
        "average_sales = total_sales / len(quarterly_sales)  # Like =AVERAGE(A1:A4)\n",
        "max_sales = max(quarterly_sales)             # Like =MAX(A1:A4)\n",
        "min_sales = min(quarterly_sales)             # Like =MIN(A1:A4)\n",
        "sales_count = len(quarterly_sales)           # Like =COUNT(A1:A4)\n",
        "\n",
        "print(\"=== Sales Analysis (Excel Functions in Python) ===\")\n",
        "print(f\"Total Sales: ₦{total_sales:,}\")\n",
        "print(f\"Average Sales: ₦{average_sales:,.2f}\")\n",
        "print(f\"Highest Month: ₦{max_sales:,}\")\n",
        "print(f\"Lowest Month: ₦{min_sales:,}\")\n",
        "print(f\"Number of Months: {sales_count}\")\n",
        "\n",
        "# Find which month had max/min sales\n",
        "best_month = quarterly_sales.index(max_sales) + 1  # +1 because months start at 1\n",
        "worst_month = quarterly_sales.index(min_sales) + 1\n",
        "\n",
        "print(f\"\\n=== Performance Analysis ===\")\n",
        "print(f\"Best performing month: Month {best_month}\")\n",
        "print(f\"Lowest performing month: Month {worst_month}\")\n",
        "\n",
        "# Growth analysis\n",
        "growth_rate = (quarterly_sales[-1] - quarterly_sales[0]) / quarterly_sales[0]\n",
        "print(f\"Quarterly growth rate: {growth_rate:.1%}\")"
      ]
    },
    {
      "cell_type": "markdown",
      "metadata": {
        "id": "PtEXudY9KFGc"
      },
      "source": [
        "## Part 2: Dictionaries (Excel Lookup Tables)\n",
        "\n",
        "### Excel Lookup Table Example:\n",
        "```\n",
        "A1: Product      B1: Price\n",
        "A2: iPhone 15    B2: 1250000\n",
        "A3: MacBook      B3: 2500000\n",
        "A4: AirPods      B4: 350000\n",
        "```\n",
        "Then use: `=VLOOKUP(\"iPhone 15\", A2:B4, 2, FALSE)`\n",
        "\n",
        "### Python Dictionary (Better than VLOOKUP!):"
      ]
    },
    {
      "cell_type": "code",
      "execution_count": null,
      "metadata": {
        "id": "0HqX-gb9KFGd"
      },
      "outputs": [],
      "source": [
        "# Product price lookup (replaces VLOOKUP table)\n",
        "product_prices = {\n",
        "    \"iPhone 15\": 1250000,\n",
        "    \"MacBook Pro\": 2500000,\n",
        "    \"AirPods Pro\": 350000,\n",
        "    \"Samsung Galaxy S24\": 980000,\n",
        "    \"Nike Air Force 1\": 85000\n",
        "}\n",
        "\n",
        "print(\"=== Product Catalog ===\")\n",
        "for product, price in product_prices.items():\n",
        "    print(f\"{product}: ₦{price:,}\")\n",
        "\n",
        "# Look up specific prices (like VLOOKUP)\n",
        "print(f\"\\n=== Price Lookups ===\")\n",
        "iphone_price = product_prices[\"iPhone 15\"]\n",
        "macbook_price = product_prices[\"MacBook Pro\"]\n",
        "\n",
        "print(f\"iPhone 15 price: ₦{iphone_price:,}\")\n",
        "print(f\"MacBook Pro price: ₦{macbook_price:,}\")\n",
        "\n",
        "# Check if product exists (prevents errors)\n",
        "product_to_check = \"iPad\"\n",
        "if product_to_check in product_prices:\n",
        "    print(f\"{product_to_check} price: ₦{product_prices[product_to_check]:,}\")\n",
        "else:\n",
        "    print(f\"{product_to_check} not found in catalog\")"
      ]
    },
    {
      "cell_type": "markdown",
      "metadata": {
        "id": "_4w1JZwMKFGe"
      },
      "source": [
        "### Complex Business Dictionary"
      ]
    },
    {
      "cell_type": "code",
      "execution_count": null,
      "metadata": {
        "id": "-CsrBfV1KFGf"
      },
      "outputs": [],
      "source": [
        "# Customer information (like multiple Excel columns)\n",
        "customer_profile = {\n",
        "    \"name\": \"Adebayo Okonkwo\",\n",
        "    \"email\": \"adebayo@email.com\",\n",
        "    \"city\": \"Lagos\",\n",
        "    \"phone\": \"+234-803-555-0123\",\n",
        "    \"total_orders\": 15,\n",
        "    \"lifetime_value\": 875000,\n",
        "    \"is_vip\": True,\n",
        "    \"preferred_category\": \"Electronics\",\n",
        "    \"payment_method\": \"Card\"\n",
        "}\n",
        "\n",
        "print(\"=== Customer Profile ===\")\n",
        "print(f\"Name: {customer_profile['name']}\")\n",
        "print(f\"Location: {customer_profile['city']}\")\n",
        "print(f\"Contact: {customer_profile['email']} | {customer_profile['phone']}\")\n",
        "print(f\"Total Orders: {customer_profile['total_orders']}\")\n",
        "print(f\"Lifetime Value: ₦{customer_profile['lifetime_value']:,}\")\n",
        "print(f\"VIP Status: {customer_profile['is_vip']}\")\n",
        "print(f\"Preferred Category: {customer_profile['preferred_category']}\")\n",
        "print(f\"Payment Method: {customer_profile['payment_method']}\")\n",
        "\n",
        "# Business calculations using dictionary data\n",
        "avg_order_value = customer_profile['lifetime_value'] / customer_profile['total_orders']\n",
        "print(f\"\\n=== Analytics ===\")\n",
        "print(f\"Average Order Value: ₦{avg_order_value:,.2f}\")\n",
        "\n",
        "# Customer categorization\n",
        "if customer_profile['lifetime_value'] > 500000:\n",
        "    tier = \"Premium\"\n",
        "elif customer_profile['lifetime_value'] > 200000:\n",
        "    tier = \"Gold\"\n",
        "else:\n",
        "    tier = \"Silver\"\n",
        "\n",
        "print(f\"Customer Tier: {tier}\")"
      ]
    },
    {
      "cell_type": "markdown",
      "metadata": {
        "id": "kms1urxIKFGf"
      },
      "source": [
        "## Part 3: Combining Lists and Dictionaries (Complete Data Tables)\n",
        "\n",
        "### Excel Table with Multiple Customers:\n",
        "```\n",
        "A1: Name          B1: City      C1: Orders    D1: Value\n",
        "A2: Adebayo       B2: Lagos     C2: 15        D2: 875000\n",
        "A3: Fatima        B3: Abuja     C3: 8         D3: 450000\n",
        "A4: Chinedu       B4: P.Harcourt C4: 22       D4: 1200000\n",
        "```\n",
        "\n",
        "### Python: List of Dictionaries (Like Excel Table)"
      ]
    },
    {
      "cell_type": "code",
      "execution_count": 3,
      "metadata": {
        "colab": {
          "base_uri": "https://localhost:8080/"
        },
        "id": "RRuUs1akKFGg",
        "outputId": "f792cbd1-0f85-4bc4-f8c4-e53e39a64135"
      },
      "outputs": [
        {
          "output_type": "stream",
          "name": "stdout",
          "text": [
            "=== CUSTOMER DATABASE ===\n",
            "Total customers: 4\n",
            "\n",
            "Customer Details:\n",
            "\n",
            "1. Adebayo Okonkwo\n",
            "   📍 Lagos\n",
            "   📦 15 orders\n",
            "   💰 ₦875,000 lifetime value\n",
            "   📊 ₦58,333.33 avg order value\n",
            "   📅 Joined: 2023-03-15\n",
            "   🟢 Active\n",
            "\n",
            "2. Fatima Abdullahi\n",
            "   📍 Abuja\n",
            "   📦 8 orders\n",
            "   💰 ₦450,000 lifetime value\n",
            "   📊 ₦56,250.00 avg order value\n",
            "   📅 Joined: 2023-07-22\n",
            "   🟢 Active\n",
            "\n",
            "3. Chinedu Okoro\n",
            "   📍 Port Harcourt\n",
            "   📦 22 orders\n",
            "   💰 ₦1,200,000 lifetime value\n",
            "   📊 ₦54,545.45 avg order value\n",
            "   📅 Joined: 2022-11-08\n",
            "   🔴 Inactive\n",
            "\n",
            "4. Amina Hassan\n",
            "   📍 Kano\n",
            "   📦 12 orders\n",
            "   💰 ₦680,000 lifetime value\n",
            "   📊 ₦56,666.67 avg order value\n",
            "   📅 Joined: 2023-01-30\n",
            "   🟢 Active\n"
          ]
        }
      ],
      "source": [
        "# Customer database (like Excel table)\n",
        "customers = [\n",
        "    {\n",
        "        \"name\": \"Adebayo Okonkwo\",\n",
        "        \"city\": \"Lagos\",\n",
        "        \"total_orders\": 15,\n",
        "        \"lifetime_value\": 875000,\n",
        "        \"join_date\": \"2023-03-15\",\n",
        "        \"is_active\": True\n",
        "    },\n",
        "    {\n",
        "        \"name\": \"Fatima Abdullahi\",\n",
        "        \"city\": \"Abuja\",\n",
        "        \"total_orders\": 8,\n",
        "        \"lifetime_value\": 450000,\n",
        "        \"join_date\": \"2023-07-22\",\n",
        "        \"is_active\": True\n",
        "    },\n",
        "    {\n",
        "        \"name\": \"Chinedu Okoro\",\n",
        "        \"city\": \"Port Harcourt\",\n",
        "        \"total_orders\": 22,\n",
        "        \"lifetime_value\": 1200000,\n",
        "        \"join_date\": \"2022-11-08\",\n",
        "        \"is_active\": False\n",
        "    },\n",
        "    {\n",
        "        \"name\": \"Amina Hassan\",\n",
        "        \"city\": \"Kano\",\n",
        "        \"total_orders\": 12,\n",
        "        \"lifetime_value\": 680000,\n",
        "        \"join_date\": \"2023-01-30\",\n",
        "        \"is_active\": True\n",
        "    }\n",
        "]\n",
        "\n",
        "print(\"=== CUSTOMER DATABASE ===\")\n",
        "print(f\"Total customers: {len(customers)}\")\n",
        "print(\"\\nCustomer Details:\")\n",
        "\n",
        "for i, customer in enumerate(customers, 1):\n",
        "    avg_order = customer['lifetime_value'] / customer['total_orders']\n",
        "    status = \"🟢 Active\" if customer['is_active'] else \"🔴 Inactive\"\n",
        "\n",
        "    print(f\"\\n{i}. {customer['name']}\")\n",
        "    print(f\"   📍 {customer['city']}\")\n",
        "    print(f\"   📦 {customer['total_orders']} orders\")\n",
        "    print(f\"   💰 ₦{customer['lifetime_value']:,} lifetime value\")\n",
        "    print(f\"   📊 ₦{avg_order:,.2f} avg order value\")\n",
        "    print(f\"   📅 Joined: {customer['join_date']}\")\n",
        "    print(f\"   {status}\")"
      ]
    },
    {
      "cell_type": "markdown",
      "metadata": {
        "id": "MdqUNJ9SKFGh"
      },
      "source": [
        "### Business Analysis with Lists and Dictionaries"
      ]
    },
    {
      "cell_type": "code",
      "execution_count": 4,
      "metadata": {
        "colab": {
          "base_uri": "https://localhost:8080/"
        },
        "id": "r9jJfTQUKFGh",
        "outputId": "92921fff-016b-4887-b95f-fe0579c5456f"
      },
      "outputs": [
        {
          "output_type": "stream",
          "name": "stdout",
          "text": [
            "=== BUSINESS ANALYTICS ===\n",
            "📊 Customer Base: 4 customers\n",
            "🟢 Active Customers: 3 (75.0%)\n",
            "📦 Total Orders: 57\n",
            "💰 Total Revenue: ₦3,205,000\n",
            "📈 Revenue per Customer: ₦801,250.00\n",
            "📋 Orders per Customer: 14.2\n",
            "\n",
            "=== GEOGRAPHIC ANALYSIS ===\n",
            "📍 Cities served: 4\n",
            "   Kano: 1 customers, ₦680,000 revenue, 12 orders\n",
            "   Abuja: 1 customers, ₦450,000 revenue, 8 orders\n",
            "   Lagos: 1 customers, ₦875,000 revenue, 15 orders\n",
            "   Port Harcourt: 1 customers, ₦1,200,000 revenue, 22 orders\n",
            "\n",
            "=== TOP PERFORMERS ===\n",
            "🏆 Highest Value: Chinedu Okoro (₦1,200,000)\n",
            "📦 Most Orders: Chinedu Okoro (22 orders)\n"
          ]
        }
      ],
      "source": [
        "# Business analytics (like Excel pivot tables)\n",
        "total_customers = len(customers)\n",
        "active_customers = sum(1 for customer in customers if customer['is_active'])\n",
        "total_orders = sum(customer['total_orders'] for customer in customers)\n",
        "total_revenue = sum(customer['lifetime_value'] for customer in customers)\n",
        "\n",
        "print(\"=== BUSINESS ANALYTICS ===\")\n",
        "print(f\"📊 Customer Base: {total_customers} customers\")\n",
        "print(f\"🟢 Active Customers: {active_customers} ({active_customers/total_customers:.1%})\")\n",
        "print(f\"📦 Total Orders: {total_orders:,}\")\n",
        "print(f\"💰 Total Revenue: ₦{total_revenue:,}\")\n",
        "print(f\"📈 Revenue per Customer: ₦{total_revenue/total_customers:,.2f}\")\n",
        "print(f\"📋 Orders per Customer: {total_orders/total_customers:.1f}\")\n",
        "\n",
        "# City analysis\n",
        "cities = [customer['city'] for customer in customers]\n",
        "unique_cities = list(set(cities))\n",
        "\n",
        "print(f\"\\n=== GEOGRAPHIC ANALYSIS ===\")\n",
        "print(f\"📍 Cities served: {len(unique_cities)}\")\n",
        "for city in unique_cities:\n",
        "    city_customers = [c for c in customers if c['city'] == city]\n",
        "    city_revenue = sum(c['lifetime_value'] for c in city_customers)\n",
        "    city_orders = sum(c['total_orders'] for c in city_customers)\n",
        "    print(f\"   {city}: {len(city_customers)} customers, ₦{city_revenue:,} revenue, {city_orders} orders\")\n",
        "\n",
        "# Top performers\n",
        "top_customer = max(customers, key=lambda x: x['lifetime_value'])\n",
        "most_orders = max(customers, key=lambda x: x['total_orders'])\n",
        "\n",
        "print(f\"\\n=== TOP PERFORMERS ===\")\n",
        "print(f\"🏆 Highest Value: {top_customer['name']} (₦{top_customer['lifetime_value']:,})\")\n",
        "print(f\"📦 Most Orders: {most_orders['name']} ({most_orders['total_orders']} orders)\")"
      ]
    },
    {
      "cell_type": "markdown",
      "metadata": {
        "id": "0Y5Tg_EZKFGi"
      },
      "source": [
        "## Hands-On Exercise: Build Your Product Inventory\n",
        "\n",
        "**Scenario**: You're setting up the product catalog for NaijaCommerce. Create lists and dictionaries to organize the inventory.\n",
        "\n",
        "**Your Task**: Fill in realistic product data"
      ]
    },
    {
      "cell_type": "code",
      "execution_count": 9,
      "metadata": {
        "colab": {
          "base_uri": "https://localhost:8080/"
        },
        "id": "HJy7c21RKFGj",
        "outputId": "00f495d3-ab4a-4be5-a718-340acfe02b84"
      },
      "outputs": [
        {
          "output_type": "stream",
          "name": "stdout",
          "text": [
            "=== PRODUCT CATALOG ===\n",
            "\n",
            "1. Exercise Book ⭐ FEATURED\n",
            "   Category: Stationaries\n",
            "   Price: ₦250\n",
            "   Stock: 3000 units (✅ In Stock)\n",
            "   Supplier: Boanerge Bookshop\n",
            "   Rating: 4.5/5.0\n",
            "\n",
            "2. Ankara Yet to be featured\n",
            "   Category: Fashion\n",
            "   Price: ₦6,000\n",
            "   Stock: 0 units (❌ Out of Stock)\n",
            "   Supplier: Mma Stitches\n",
            "   Rating: 4.2/5.0\n",
            "\n",
            "3. Garri ⭐ FEATURED\n",
            "   Category: Food stuffs\n",
            "   Price: ₦3,000\n",
            "   Stock: 1000 units (✅ In Stock)\n",
            "   Supplier: Godspro hub\n",
            "   Rating: 3.8/5.0\n",
            "\n",
            "=== INVENTORY SUMMARY ===\n",
            "💰 Total Inventory Value: ₦3,750,000\n",
            "⭐ Featured Products: 2/3\n",
            "📊 Average Rating: 4.17/5.0\n",
            "📦 Total Units: 4,000\n",
            "\n",
            "=== CATEGORY BREAKDOWN ===\n",
            "   Stationaries: 1 products, ₦750,000 value, 3000 units\n",
            "   Food stuffs: 1 products, ₦3,000,000 value, 1000 units\n",
            "   Fashion: 1 products, ₦0 value, 0 units\n"
          ]
        }
      ],
      "source": [
        "# Step 1: Create product categories list\n",
        "categories = [\"Stationaries\", \"Fashion\", \"Food stuffs\", \"Building Materials\"]  # Fill in 4 categories\n",
        "\n",
        "# Step 2: Create individual product dictionaries\n",
        "product1 = {\n",
        "    \"name\": \"Exercise Book\",           # Product name\n",
        "    \"category\": categories[0],   # Use first category\n",
        "    \"price\":250,            # Price in Naira\n",
        "    \"stock\": 3000,            # Quantity available\n",
        "    \"supplier\": \"Boanerge Bookshop\",       # Supplier name\n",
        "    \"rating\": 4.5,              # Customer rating\n",
        "    \"is_featured\": True         # Featured on homepage?\n",
        "}\n",
        "\n",
        "product2 = {\n",
        "    \"name\": \"Ankara\",\n",
        "    \"category\": categories[1],\n",
        "    \"price\":6000,\n",
        "    \"stock\": 0,\n",
        "    \"supplier\": \"Mma Stitches\",\n",
        "    \"rating\": 4.2,\n",
        "    \"is_featured\": False\n",
        "}\n",
        "\n",
        "product3 = {\n",
        "    \"name\": \"Garri\",\n",
        "    \"category\": categories[2],\n",
        "    \"price\":3000,\n",
        "    \"stock\": 1000,\n",
        "    \"supplier\": \"Godspro hub\",\n",
        "    \"rating\": 3.8,\n",
        "    \"is_featured\": True\n",
        "}\n",
        "\n",
        "# Step 3: Combine into product catalog\n",
        "product_catalog = [product1, product2, product3]\n",
        "\n",
        "# Step 4: Display catalog\n",
        "print(\"=== PRODUCT CATALOG ===\")\n",
        "for i, product in enumerate(product_catalog, 1):\n",
        "    featured_status = \"⭐ FEATURED\" if product['is_featured'] else \"Yet to be featured\"\n",
        "    stock_status = \"✅ In Stock\" if product['stock'] > 0 else \"❌ Out of Stock\"\n",
        "\n",
        "    print(f\"\\n{i}. {product['name']} {featured_status}\")\n",
        "    print(f\"   Category: {product['category']}\")\n",
        "    print(f\"   Price: ₦{product['price']:,}\")\n",
        "    print(f\"   Stock: {product['stock']} units ({stock_status})\")\n",
        "    print(f\"   Supplier: {product['supplier']}\")\n",
        "    print(f\"   Rating: {product['rating']}/5.0\")\n",
        "\n",
        "# Step 5: Business calculations\n",
        "total_inventory_value = sum(p['price'] * p['stock'] for p in product_catalog)\n",
        "featured_products = sum(1 for p in product_catalog if p['is_featured'])\n",
        "avg_rating = sum(p['rating'] for p in product_catalog) / len(product_catalog)\n",
        "total_units = sum(p['stock'] for p in product_catalog)\n",
        "\n",
        "print(f\"\\n=== INVENTORY SUMMARY ===\")\n",
        "print(f\"💰 Total Inventory Value: ₦{total_inventory_value:,}\")\n",
        "print(f\"⭐ Featured Products: {featured_products}/{len(product_catalog)}\")\n",
        "print(f\"📊 Average Rating: {avg_rating:.2f}/5.0\")\n",
        "print(f\"📦 Total Units: {total_units:,}\")\n",
        "\n",
        "# Step 6: Category analysis\n",
        "print(f\"\\n=== CATEGORY BREAKDOWN ===\")\n",
        "for category in set(categories):\n",
        "    category_products = [p for p in product_catalog if p['category'] == category]\n",
        "    if category_products:\n",
        "        category_value = sum(p['price'] * p['stock'] for p in category_products)\n",
        "        category_units = sum(p['stock'] for p in category_products)\n",
        "        print(f\"   {category}: {len(category_products)} products, ₦{category_value:,} value, {category_units} units\")"
      ]
    },
    {
      "cell_type": "markdown",
      "metadata": {
        "id": "Bq6J1JMqKFGk"
      },
      "source": [
        "## Common Operations: Lists vs Dictionaries\n",
        "\n",
        "### When to Use Lists vs Dictionaries"
      ]
    },
    {
      "cell_type": "code",
      "execution_count": null,
      "metadata": {
        "id": "Sv8gF8EkKFGk"
      },
      "outputs": [],
      "source": [
        "# Use LISTS for:\n",
        "# - Simple collections of similar items\n",
        "# - When order matters\n",
        "# - When you access by position\n",
        "\n",
        "monthly_sales = [250000, 275000, 300000, 280000]  # Order matters (Jan, Feb, Mar, Apr)\n",
        "top_products = [\"iPhone\", \"Samsung\", \"MacBook\"]    # Ranked order\n",
        "delivery_cities = [\"Lagos\", \"Abuja\", \"Kano\"]      # Collection of similar items\n",
        "\n",
        "print(\"=== LISTS: When Order Matters ===\")\n",
        "print(f\"Q1 sales: ₦{monthly_sales[0]:,} (January)\")\n",
        "print(f\"Best seller: {top_products[0]}\")\n",
        "print(f\"Primary market: {delivery_cities[0]}\")\n",
        "\n",
        "# Use DICTIONARIES for:\n",
        "# - Key-value relationships\n",
        "# - When you look up by name/key\n",
        "# - Complex records with different data types\n",
        "\n",
        "product_info = {                    # Complex record\n",
        "    \"name\": \"iPhone 15\",\n",
        "    \"price\": 1250000,\n",
        "    \"in_stock\": True\n",
        "}\n",
        "\n",
        "price_lookup = {                    # Key-value lookup\n",
        "    \"iPhone\": 1250000,\n",
        "    \"Samsung\": 980000,\n",
        "    \"MacBook\": 2500000\n",
        "}\n",
        "\n",
        "print(f\"\\n=== DICTIONARIES: When Relationships Matter ===\")\n",
        "print(f\"Product: {product_info['name']}\")\n",
        "print(f\"iPhone price: ₦{price_lookup['iPhone']:,}\")\n",
        "\n",
        "# COMBINING BOTH:\n",
        "# List of dictionaries for complete data tables\n",
        "\n",
        "order_history = [                   # Table-like structure\n",
        "    {\"date\": \"2024-01-15\", \"product\": \"iPhone\", \"amount\": 1250000},\n",
        "    {\"date\": \"2024-01-16\", \"product\": \"Samsung\", \"amount\": 980000},\n",
        "    {\"date\": \"2024-01-17\", \"product\": \"MacBook\", \"amount\": 2500000}\n",
        "]\n",
        "\n",
        "print(f\"\\n=== COMBINED: Complete Data Tables ===\")\n",
        "total_orders = sum(order['amount'] for order in order_history)\n",
        "print(f\"Total order value: ₦{total_orders:,}\")"
      ]
    },
    {
      "cell_type": "markdown",
      "metadata": {
        "id": "5cfucTbgKFGl"
      },
      "source": [
        "## Error Prevention: Common Mistakes\n",
        "\n",
        "### List Index Errors"
      ]
    },
    {
      "cell_type": "code",
      "execution_count": null,
      "metadata": {
        "id": "V2gWyTsSKFGl"
      },
      "outputs": [],
      "source": [
        "categories = [\"Electronics\", \"Clothing\", \"Books\"]\n",
        "\n",
        "# ❌ This will cause an error\n",
        "# print(categories[5])  # List only has 3 items (indexes 0, 1, 2)\n",
        "\n",
        "# ✅ Safe ways to access list items\n",
        "if len(categories) > 5:\n",
        "    print(categories[5])\n",
        "else:\n",
        "    print(f\"List only has {len(categories)} items\")\n",
        "\n",
        "# ✅ Using try/except for error handling\n",
        "try:\n",
        "    item = categories[5]\n",
        "    print(item)\n",
        "except IndexError:\n",
        "    print(\"Index out of range - list is shorter than expected\")\n",
        "\n",
        "print(f\"Safe access: List has {len(categories)} categories\")"
      ]
    },
    {
      "cell_type": "markdown",
      "metadata": {
        "id": "zMLjD3toKFGm"
      },
      "source": [
        "### Dictionary Key Errors"
      ]
    },
    {
      "cell_type": "code",
      "execution_count": null,
      "metadata": {
        "id": "kb8bA3R_KFGm"
      },
      "outputs": [],
      "source": [
        "prices = {\"iPhone\": 1250000, \"Samsung\": 980000, \"MacBook\": 2500000}\n",
        "\n",
        "# ❌ This will cause an error if key doesn't exist\n",
        "# print(prices[\"iPad\"])  # iPad not in dictionary\n",
        "\n",
        "# ✅ Safe ways to access dictionary values\n",
        "if \"iPad\" in prices:\n",
        "    print(f\"iPad price: ₦{prices['iPad']:,}\")\n",
        "else:\n",
        "    print(\"iPad not found in price list\")\n",
        "\n",
        "# ✅ Using .get() method with default value\n",
        "ipad_price = prices.get(\"iPad\", 0)  # Returns 0 if not found\n",
        "print(f\"iPad price (with default): ₦{ipad_price:,}\")\n",
        "\n",
        "# ✅ Using .get() with custom message\n",
        "ipad_price = prices.get(\"iPad\", \"Not available\")\n",
        "print(f\"iPad status: {ipad_price}\")\n",
        "\n",
        "print(f\"\\nAvailable products: {list(prices.keys())}\")"
      ]
    },
    {
      "cell_type": "markdown",
      "metadata": {
        "id": "_d2EtZA6KFGm"
      },
      "source": [
        "## Key Takeaways: Lists and Dictionaries\n",
        "\n",
        "### What You Learned\n",
        "✅ **Lists** = Excel column ranges (ordered collections)  \n",
        "✅ **Dictionaries** = Lookup tables (key-value pairs)  \n",
        "✅ **List of Dictionaries** = Complete data tables  \n",
        "✅ **Indexing** starts at 0 in Python (not 1 like Excel)  \n",
        "✅ **Error handling** prevents crashes when data is missing  \n",
        "\n",
        "### Python vs Excel\n",
        "| Task | Excel | Python |\n",
        "|------|-------|--------|\n",
        "| Store list | A1:A10 range | `list = [item1, item2, ...]` |\n",
        "| Lookup value | VLOOKUP | `dictionary[key]` |\n",
        "| First item | A1 (row 1) | `list[0]` (index 0) |\n",
        "| Count items | COUNT function | `len(list)` |\n",
        "| Sum values | SUM function | `sum(list)` |\n",
        "| Max value | MAX function | `max(list)` |\n",
        "\n",
        "### When to Use What\n",
        "**Use Lists when:**\n",
        "- You have similar items in a specific order\n",
        "- Position/sequence matters\n",
        "- Simple collections (names, numbers, dates)\n",
        "\n",
        "**Use Dictionaries when:**\n",
        "- You need to look up values by name/key\n",
        "- You have complex records with different data types\n",
        "- Relationships between data matter\n",
        "\n",
        "**Use List of Dictionaries when:**\n",
        "- You need a complete data table\n",
        "- Each record has multiple attributes\n",
        "- You want to analyze groups of similar records\n",
        "\n",
        "### Common Mistakes to Avoid\n",
        "❌ Forgetting Python starts counting at 0  \n",
        "❌ Not checking if keys exist in dictionaries  \n",
        "❌ Trying to access list items beyond the list length  \n",
        "❌ Mixing up when to use lists vs dictionaries  \n",
        "\n",
        "### Next Up: Working with Real Data\n",
        "In the next notebook, we'll use pandas to work with real CSV files - combining everything you've learned with actual business data!\n",
        "\n",
        "**Continue to**: `04_pandas_dataframe_intro.ipynb`"
      ]
    }
  ],
  "metadata": {
    "kernelspec": {
      "display_name": "Python 3",
      "language": "python",
      "name": "python3"
    },
    "language_info": {
      "codemirror_mode": {
        "name": "ipython",
        "version": 3
      },
      "file_extension": ".py",
      "name": "python",
      "nbconvert_exporter": "python",
      "pygments_lexer": "python3",
      "version": "3.8.5"
    },
    "colab": {
      "provenance": []
    }
  },
  "nbformat": 4,
  "nbformat_minor": 0
}